{
 "cells": [
  {
   "cell_type": "code",
   "execution_count": 4,
   "id": "cfeda6cc-b3f6-4e8d-985b-8a62ff8355f7",
   "metadata": {},
   "outputs": [
    {
     "name": "stdout",
     "output_type": "stream",
     "text": [
      "Script path being used: /home/sunny/datadog-lab/bedrock-lab/scripts/invoke_model.py\n",
      "🔍 Looking for prompts at: /home/sunny/datadog-lab/bedrock-lab/config/prompts.json\n",
      "{'type': 'completion', 'completion': ' Here is a 82-word explanation of why Kubernetes is useful for SREs:\\n\\nKubernetes provides SREs with an open source platform to easily deploy and manage containerized applications at scale across multiple servers. It automates the distribution and scheduling of containers and can quickly scale resources up or down based on demand. This allows SREs to focus on high-level application health and optimizations rather than low-level system administration tasks. Kubernetes handles tasks like replication, rollouts and rollbacks, self-healing, resource allocation, and exposes prometheus metrics for monitoring.', 'stop_reason': 'stop_sequence', 'stop': '\\n\\nHuman:'}\n"
     ]
    }
   ],
   "source": [
    "import sys\n",
    "import os\n",
    "import json\n",
    "import importlib\n",
    "\n",
    "# Extend path to project root so Python can find scripts/\n",
    "sys.path.append(os.path.abspath(os.path.join(os.getcwd(), \"..\")))\n",
    "\n",
    "# ✅ Import the *full module* so we can inspect it\n",
    "import scripts.invoke_model as im\n",
    "importlib.reload(im)\n",
    "# 🔍 Confirm we’re loading the right file\n",
    "print(\"Script path being used:\", im.__file__)\n",
    "response = im.invoke_bedrock(\"explain_k8s\")\n",
    "print(response)"
   ]
  },
  {
   "cell_type": "code",
   "execution_count": null,
   "id": "1bfe2c96-3030-4c2b-8dcd-1b80f1d2f8fe",
   "metadata": {},
   "outputs": [],
   "source": []
  }
 ],
 "metadata": {
  "kernelspec": {
   "display_name": "Python 3 (ipykernel)",
   "language": "python",
   "name": "python3"
  },
  "language_info": {
   "codemirror_mode": {
    "name": "ipython",
    "version": 3
   },
   "file_extension": ".py",
   "mimetype": "text/x-python",
   "name": "python",
   "nbconvert_exporter": "python",
   "pygments_lexer": "ipython3",
   "version": "3.10.12"
  }
 },
 "nbformat": 4,
 "nbformat_minor": 5
}
