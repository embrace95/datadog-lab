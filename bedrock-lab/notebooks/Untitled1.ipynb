{
 "cells": [
  {
   "cell_type": "code",
   "execution_count": 4,
   "id": "be8b3449-4749-415c-8e04-302d3d905518",
   "metadata": {},
   "outputs": [
    {
     "name": "stdout",
     "output_type": "stream",
     "text": [
      "Notebook CWD: /home/sunny/datadog-lab/bedrock-lab/notebooks\n",
      "📘 Kubernetes Basics\n",
      "Kubernetes is a container orchestration platform that helps automate deployment, scaling, and manage...\n",
      "\n"
     ]
    }
   ],
   "source": [
    "import sys\n",
    "import os\n",
    "import importlib\n",
    "import db.search\n",
    "# Add the parent directory to the path so you can import db.search\n",
    "sys.path.append(os.path.abspath(os.path.join(os.getcwd(), \"..\")))\n",
    "\n",
    "from db.search import search_documents\n",
    "importlib.reload(db.search)\n",
    "print(\"Notebook CWD:\", os.getcwd())\n",
    "results = search_documents(\"Kubernetes\")\n",
    "for title, content in results:\n",
    "    print(f\"📘 {title}\\n{content[:100]}...\\n\")"
   ]
  },
  {
   "cell_type": "code",
   "execution_count": null,
   "id": "d46b139b-fd1f-4df7-9b87-7097274b6718",
   "metadata": {},
   "outputs": [],
   "source": []
  }
 ],
 "metadata": {
  "kernelspec": {
   "display_name": "Python 3 (ipykernel)",
   "language": "python",
   "name": "python3"
  },
  "language_info": {
   "codemirror_mode": {
    "name": "ipython",
    "version": 3
   },
   "file_extension": ".py",
   "mimetype": "text/x-python",
   "name": "python",
   "nbconvert_exporter": "python",
   "pygments_lexer": "ipython3",
   "version": "3.10.12"
  }
 },
 "nbformat": 4,
 "nbformat_minor": 5
}
