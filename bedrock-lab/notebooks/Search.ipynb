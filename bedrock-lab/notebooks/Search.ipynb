import sys
import os

# Add the parent directory to the path so you can import db.search
sys.path.append(os.path.abspath(os.path.join(os.getcwd(), "..")))

from db.search import search_documents  # if in separate file

results = search_documents("Kubernetes")
for title, content in results:
    print(f"📘 {title}\n{content[:100]}...\n")
